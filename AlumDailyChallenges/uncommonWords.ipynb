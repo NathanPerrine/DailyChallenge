{
 "cells": [
  {
   "cell_type": "markdown",
   "metadata": {},
   "source": [
    "A sentence is a string of single-space separated words where each word consists only of lowercase letters.\n",
    "A word is uncommon if it appears exactly once in one of the sentences, and does not appear in the other sentence.\n",
    "Given two sentences s1 and s2, return a list of all the uncommon words. You may return the answer in any order.\n",
    "\n",
    "Example 1:\n",
    "Input: s1 = \"this apple is sweet\", s2 = \"this apple is sour\"\n",
    "Output: [\"sweet\",\"sour\"]\n",
    "\n",
    "Example 2:\n",
    "Input: s1 = \"apple apple\", s2 = \"banana\"\n",
    "Output: [\"banana\"]\n",
    "\n",
    "Constraints:\n",
    "1 <= s1.length, s2.length <= 200\n",
    "s1 and s2 consist of lowercase English letters and spaces.\n",
    "s1 and s2 do not have leading or trailing spaces.\n",
    "All the words in s1 and s2 are separated by a single space."
   ]
  },
  {
   "cell_type": "code",
   "execution_count": 7,
   "metadata": {},
   "outputs": [],
   "source": [
    "def uncommonWords(*sentences):\n",
    "    seen = {}\n",
    "    uncommon = []\n",
    "    for sentence in sentences:\n",
    "        for word in sentence.split():\n",
    "            if word in seen:\n",
    "                seen[word] += 1\n",
    "            else:\n",
    "                seen[word] = 1\n",
    "    for k, v in seen.items():\n",
    "        if v == 1:\n",
    "            uncommon.append(k)\n",
    "    return uncommon"
   ]
  },
  {
   "cell_type": "code",
   "execution_count": 8,
   "metadata": {},
   "outputs": [
    {
     "name": "stdout",
     "output_type": "stream",
     "text": [
      "['sweet', 'sour']\n"
     ]
    }
   ],
   "source": [
    "s1 = \"this apple is sweet\"\n",
    "s2 = \"this apple is sour\"\n",
    "print(uncommonWords(s1, s2))"
   ]
  },
  {
   "cell_type": "code",
   "execution_count": 9,
   "metadata": {},
   "outputs": [
    {
     "name": "stdout",
     "output_type": "stream",
     "text": [
      "['banana']\n"
     ]
    }
   ],
   "source": [
    "s1 = \"apple apple\"\n",
    "s2 = \"banana\"\n",
    "print(uncommonWords(s1, s2))"
   ]
  }
 ],
 "metadata": {
  "interpreter": {
   "hash": "16dd1f0e6febe29089962fb2487a942d8d2b9927ae6d9b119e77798fd68476cf"
  },
  "kernelspec": {
   "display_name": "Python 3.9.10 64-bit",
   "language": "python",
   "name": "python3"
  },
  "language_info": {
   "codemirror_mode": {
    "name": "ipython",
    "version": 3
   },
   "file_extension": ".py",
   "mimetype": "text/x-python",
   "name": "python",
   "nbconvert_exporter": "python",
   "pygments_lexer": "ipython3",
   "version": "3.9.10"
  },
  "orig_nbformat": 4
 },
 "nbformat": 4,
 "nbformat_minor": 2
}
